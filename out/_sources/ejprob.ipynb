{
 "cells": [
  {
   "cell_type": "markdown",
   "metadata": {},
   "source": [
    "# <span style=\"color:#F72585\">Ejercicios</span>"
   ]
  },
  {
   "cell_type": "markdown",
   "metadata": {},
   "source": [
    "(prob:ej1)=\n",
    "## <span style=\"color:#4361EE\">[Conceptos Básicos de Probabilidad](1:prob1)</span>"
   ]
  },
  {
   "cell_type": "markdown",
   "id": "acad4133-7b5a-4456-89b2-2662d8aade39",
   "metadata": {},
   "source": [
    "\n",
    "Considere el siguiente experimento. Se lanzan dos dados no cargados de seis caras cada uno. El resultado del experimento es una pareja de números. Por ejemplo $(5,6)$."
   ]
  },
  {
   "cell_type": "markdown",
   "id": "0d015147-fdf9-422e-999d-e6a9303726dd",
   "metadata": {},
   "source": [
    "```{figure} https://raw.githubusercontent.com/Yesenia-AriasC/PRT/master/dos_dados.png\n",
    ":height: 150px\n",
    ":name: dos-dados\n",
    "\n",
    "Fuente ...\n",
    "```"
   ]
  },
  {
   "cell_type": "markdown",
   "id": "f183c0bc-2e84-44c3-9e21-8f617087235b",
   "metadata": {},
   "source": [
    "1. Haga una tabla, usando Markdown con todo el espacio muestral $\\mathcal{M}$. Ayuda: son 36 elementos.\n",
    "2. ¿Cuántos eventos son posibles? Use Python para hacer el cálculo 2^36\n",
    "2. Calcule la probabilidad de obtener 2,3,... 12.\n",
    "3. Calcule la probabilidad de obtener un número par.\n",
    "4. Compruebe que la probabilidad de obtener 5 en el dado azul es 1/5 y que este evento es independiente del valor obtenido en el dado rojo.\n",
    "4. Escriba un programa Python que construya un tensor de dimensión 2 y que contenga los 36 posibles resultados. Consulte  sobre como se hace un ciclo for en Python."
   ]
  },
  {
   "cell_type": "markdown",
   "metadata": {},
   "source": [
    "<span style=\"color:green\">Escriba aquí su respuesta. Discuta con sus compañeros.</span>"
   ]
  },
  {
   "cell_type": "markdown",
   "metadata": {},
   "source": [
    "### <span style=\"color:#4CC9F0\">[Probabilidad de la Intersección](prob1:ej1)</span>"
   ]
  },
  {
   "cell_type": "markdown",
   "metadata": {},
   "source": [
    "¿Qué piensa de la siguiente afirmación?. ¿Verdadero o falso? Justifique su respuesta.\n",
    "\n",
    "Si $A$ y $B$ son conjuntos disyuntos, entonces $\\text{Prob}[A\\cap B] = 0$.\n"
   ]
  },
  {
   "cell_type": "markdown",
   "metadata": {},
   "source": [
    "<span style=\"color:green\">Escriba aquí su respuesta. Discuta con sus compañeros.</span>"
   ]
  },
  {
   "cell_type": "markdown",
   "metadata": {},
   "source": [
    "### <span style=\"color:#4CC9F0\">[Probabilidad condicional](prob1:ej2)</span>"
   ]
  },
  {
   "cell_type": "markdown",
   "metadata": {},
   "source": [
    "Imagínese como se podría verificar la siguiente ecuación según el ejemplo dado en {ref}`prob1:ej2` $\\text{Prob}(\\text{par}|\\text{azul}) = \\frac{\\text{Prob}[\\text{par}\\cap \\text{azul}]}{\\text{Prob}[\\text{azul}]}$\n",
    "\n",
    "Usando dicha ecuación calcule:\n",
    "$\\text{Prob}(\\text{par}|\\text{azul})$\n",
    " "
   ]
  },
  {
   "cell_type": "markdown",
   "metadata": {},
   "source": [
    "<span style=\"color:green\">Escriba aquí su respuesta. Discuta con sus compañeros.</span>"
   ]
  },
  {
   "cell_type": "markdown",
   "metadata": {},
   "source": [
    "### <span style=\"color:#4CC9F0\">[Independencia](prob1:ej3)</span>"
   ]
  },
  {
   "cell_type": "markdown",
   "metadata": {},
   "source": [
    "Verifique que la siguiente afirmación es verdadera:\n",
    "\n",
    "Dos eventos $A$ y $B$ del espacio muestral $\\mathcal{M}$ se dicen independientes si\n",
    "\n",
    "$$\n",
    "\\text{Prob}[A| B] = \\text{Prob}[A].\n",
    "$$"
   ]
  },
  {
   "cell_type": "markdown",
   "metadata": {},
   "source": [
    "<span style=\"color:green\">Escriba aquí su respuesta. Discuta con sus compañeros.</span>"
   ]
  },
  {
   "cell_type": "markdown",
   "metadata": {},
   "source": [
    "## <span style=\"color:#4361EE\">[Variables Aleatorias](1:prob2)</span>"
   ]
  },
  {
   "cell_type": "markdown",
   "metadata": {},
   "source": [
    "Considere el ejemplo del espacio muestral de los dos dados de seis caras, no cargados. \n",
    "\n",
    "1. Construya la tabla completa de los posibles resultados de de las funcioens $f$ y $g$.\n",
    "2. Proponga otra variable aleatoria definida sobre el espacio muestral $\\mathcal{M}$.\n",
    "\n"
   ]
  },
  {
   "cell_type": "markdown",
   "metadata": {},
   "source": [
    "::: {admonition} Ayuda\n",
    ":class: tip\n",
    "Use Python. Construya primero la tabla que representa el espacio muestral, en un tensor $36\\times 2$. En otro tensor construya los respectivos valores de la función.\n",
    ":::"
   ]
  },
  {
   "cell_type": "markdown",
   "metadata": {},
   "source": [
    "<span style=\"color:green\">Escriba aquí su respuesta. Discuta con sus compañeros.</span>"
   ]
  },
  {
   "cell_type": "markdown",
   "metadata": {},
   "source": [
    "### <span style=\"color:#4CC9F0\">[Variable Poisson (Distribución Poisson)](prob2:ej2)</span>"
   ]
  },
  {
   "cell_type": "markdown",
   "id": "a8daae70-83fc-4d72-a26a-90f71563faa7",
   "metadata": {},
   "source": [
    "1. Revise en cualquier libro de probabilidad y estadística ejemplos de aplicación de la distribución de Poisson. \n",
    "2. Investigue como calcular probabilidades de la distribución de Poisson con scipy de Python. Suponga que para algún caso $\\lambda = 5.3$. Calcule las probabilidades para $ k=0,1,\\ldots, 20$. Haga un gráfico de la función de probabilidad con esos datos (obviamente es una aproximación de la función completa).\n",
    "3. Haga sus comentarios."
   ]
  },
  {
   "cell_type": "markdown",
   "metadata": {},
   "source": [
    "<span style=\"color:green\">Escriba aquí su respuesta. Discuta con sus compañeros.</span>"
   ]
  },
  {
   "cell_type": "markdown",
   "metadata": {},
   "source": [
    "### <span style=\"color:#4CC9F0\">[Esperanza de la distribución Poisson](prob2:ej3)</span>"
   ]
  },
  {
   "cell_type": "markdown",
   "metadata": {},
   "source": [
    "Verifique que:\n",
    "Una variable aleatoria con distribución $\\text{Pois}(\\lambda)$ tiene esperanza matemática $\\lambda$. "
   ]
  },
  {
   "cell_type": "markdown",
   "metadata": {},
   "source": [
    "<span style=\"color:green\">Escriba aquí su respuesta. Discuta con sus compañeros.</span>"
   ]
  },
  {
   "cell_type": "markdown",
   "metadata": {},
   "source": [
    "## <span style=\"color:#4361EE\">[Probabilidad Conjunta y Entropía Cruzada](1:prob3)</span>"
   ]
  },
  {
   "cell_type": "markdown",
   "metadata": {},
   "source": [
    "Por favor verifique que si $X\\sim \\text{Binom}(N,\\pi)$, entonces \n",
    "\n",
    "1. $\\mathbb{E}[X]=N\\pi$ \n",
    "2. $\\text{Var}[X]=N\\pi(1-\\pi)$."
   ]
  },
  {
   "cell_type": "markdown",
   "metadata": {},
   "source": [
    "<span style=\"color:green\">Escriba aquí su respuesta. Discuta con sus compañeros.</span>"
   ]
  },
  {
   "cell_type": "markdown",
   "metadata": {},
   "source": [
    "## <span style=\"color:#4361EE\">[Distribuciones de probabilidad continuas](1:prob4)</span>"
   ]
  },
  {
   "cell_type": "markdown",
   "metadata": {},
   "source": [
    "### <span style=\"color:#4CC9F0\">[Variables aleatorias continuas](prob4:ej1)</span>\n"
   ]
  },
  {
   "cell_type": "markdown",
   "metadata": {},
   "source": [
    "Considere los ejemplos dados en la sección {ref}`prob4:ej1`. ¿Puede indicar otros ejemplos?"
   ]
  },
  {
   "cell_type": "markdown",
   "metadata": {},
   "source": [
    "<span style=\"color:green\">Escriba aquí su respuesta. Discuta con sus compañeros.</span>"
   ]
  },
  {
   "cell_type": "markdown",
   "metadata": {},
   "source": [
    "### <span style=\"color:#4CC9F0\">[Distribución Normal](prob4:ej3)</span>"
   ]
  },
  {
   "cell_type": "markdown",
   "metadata": {},
   "source": [
    "Consulte como calcular usando Python la medida de probabilidad de los siguientes intervalos, si se asume una distribución normal con media 10 y varianza 1.\n",
    "1. $[5,15]$.\n",
    "2. $[0,\\infty]$\n",
    "3. $[8,11]$ "
   ]
  },
  {
   "cell_type": "markdown",
   "metadata": {},
   "source": [
    "::: {admonition} Ayuda\n",
    ":class: tip\n",
    "$\\text{Prob}[a,b] = \\text{Prob}[-\\infty,b] - \\text{Prob}[-\\infty,a]$.\n",
    ":::"
   ]
  },
  {
   "cell_type": "markdown",
   "metadata": {},
   "source": [
    "<span style=\"color:green\">Escriba aquí su respuesta. Discuta con sus compañeros.</span>"
   ]
  },
  {
   "cell_type": "markdown",
   "metadata": {},
   "source": [
    "### <span style=\"color:#4CC9F0\">[Información de distribuciones continuas](prob4:ej4)</span>"
   ]
  },
  {
   "cell_type": "markdown",
   "metadata": {},
   "source": [
    "Revise las distribuciones de Laplace y $t$-student utilizadas en la sección {ref}`prob4:ej4`."
   ]
  },
  {
   "cell_type": "markdown",
   "metadata": {},
   "source": [
    "<span style=\"color:green\">Escriba aquí su respuesta. Discuta con sus compañeros.</span>"
   ]
  }
 ],
 "metadata": {
  "interpreter": {
   "hash": "8fac594bfae6525c0c41b4041d2d72effa188cc8ead05f81b1fab2bb098927fb"
  },
  "kernelspec": {
   "display_name": "Python 3.8.8 64-bit ('base': conda)",
   "language": "python",
   "name": "python3"
  },
  "language_info": {
   "codemirror_mode": {
    "name": "ipython",
    "version": 3
   },
   "file_extension": ".py",
   "mimetype": "text/x-python",
   "name": "python",
   "nbconvert_exporter": "python",
   "pygments_lexer": "ipython3",
   "version": "3.8.8"
  },
  "orig_nbformat": 4
 },
 "nbformat": 4,
 "nbformat_minor": 2
}
