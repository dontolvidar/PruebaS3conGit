{
 "cells": [
  {
   "cell_type": "code",
   "execution_count": 1,
   "id": "496a3c92",
   "metadata": {},
   "outputs": [
    {
     "name": "stderr",
     "output_type": "stream",
     "text": [
      "C:\\Users\\User\\AppData\\Local\\Programs\\Python\\Python39\\lib\\site-packages\\pydub\\utils.py:170: RuntimeWarning: Couldn't find ffmpeg or avconv - defaulting to ffmpeg, but may not work\n",
      "  warn(\"Couldn't find ffmpeg or avconv - defaulting to ffmpeg, but may not work\", RuntimeWarning)\n"
     ]
    },
    {
     "data": {
      "text/html": [
       "<pre style=\"white-space:pre;overflow-x:auto;line-height:normal;font-family:Menlo,'DejaVu Sans Mono',consolas,'Courier New',monospace\">Manim Community <span style=\"color: #008000; text-decoration-color: #008000\">v0.13.1</span>\n",
       "\n",
       "</pre>\n"
      ],
      "text/plain": [
       "Manim Community \u001b[32mv0.\u001b[0m\u001b[32m13.1\u001b[0m\n",
       "\n"
      ]
     },
     "metadata": {},
     "output_type": "display_data"
    }
   ],
   "source": [
    "import manim"
   ]
  },
  {
   "cell_type": "markdown",
   "id": "1c36c872-fb98-4163-9a46-aa9aa6921fd8",
   "metadata": {},
   "source": [
    "# <span style=\"color:#F72585\">Definiciones</span>"
   ]
  },
  {
   "cell_type": "markdown",
   "id": "f14006af-e006-40c7-bda4-a84fe0c8e95c",
   "metadata": {},
   "source": [
    "Aquí se ofrece una mejor explicación sobre algunos conceptos no profundizados en el texto."
   ]
  },
  {
   "cell_type": "markdown",
   "id": "91018f91-5702-4a8b-87d2-a207c90affd4",
   "metadata": {},
   "source": [
    "(prob:mutuamente_excluyentes)=\n",
    "## <span style=\"color:#4361EE\">Mutuamente excluyentes</span>\n",
    "\n",
    "\n"
   ]
  },
  {
   "cell_type": "markdown",
   "id": "02d26469-5f9b-4d9f-a772-8d4e826b2d3b",
   "metadata": {},
   "source": [
    "Dos conjuntos son mutuamente excuyentes si..."
   ]
  },
  {
   "cell_type": "markdown",
   "id": "dfa49f75",
   "metadata": {},
   "source": []
  },
  {
   "cell_type": "markdown",
   "id": "e64ce840-dbbd-4996-bb33-96d407a5a432",
   "metadata": {},
   "source": [
    "Ejemplo."
   ]
  },
  {
   "cell_type": "code",
   "execution_count": null,
   "id": "c7e0c4d8-2465-4dcd-bd7d-31adc81b00d3",
   "metadata": {},
   "outputs": [],
   "source": []
  }
 ],
 "metadata": {
  "kernelspec": {
   "display_name": "Python 3",
   "language": "python",
   "name": "python3"
  },
  "language_info": {
   "codemirror_mode": {
    "name": "ipython",
    "version": 3
   },
   "file_extension": ".py",
   "mimetype": "text/x-python",
   "name": "python",
   "nbconvert_exporter": "python",
   "pygments_lexer": "ipython3",
   "version": "3.9.3"
  }
 },
 "nbformat": 4,
 "nbformat_minor": 5
}
