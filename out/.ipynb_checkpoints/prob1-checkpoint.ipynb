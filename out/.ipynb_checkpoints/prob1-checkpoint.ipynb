{
 "cells": [
  {
   "cell_type": "markdown",
   "id": "ea6c8e8a-abdc-4433-b627-bc8f0dcd3284",
   "metadata": {},
   "source": [
    "(1:prob1)=\n",
    "# <span style=\"color:#F72585\">Conceptos básicos de probabilidad</span>"
   ]
  },
  {
   "cell_type": "markdown",
   "id": "53751e69-db9a-4cbe-8550-b70b63b6e3cc",
   "metadata": {},
   "source": [
    "## <span style=\"color:#4361EE\">Introducción</span>\n",
    "\n"
   ]
  },
  {
   "cell_type": "markdown",
   "id": "0269bb52-07ff-49d9-abb1-c0cd97c55459",
   "metadata": {},
   "source": [
    "En esta sección se introducen los conceptos básicos de probabilidad requeridos para entender la inteligencia artificial. \n",
    "\n",
    "El propósito es presentar el lenguaje utilizado. No se hará ningún desarrollo matemático formal. Solamente se presentar los cálculos que se consideran necesarios para entender el concepto."
   ]
  },
  {
   "cell_type": "markdown",
   "id": "6334b991-e931-4a56-b6df-821859bcbb08",
   "metadata": {},
   "source": [
    "## <span style=\"color:#4361EE\">Espacio muestral</span>\n",
    "\n",
    "\n"
   ]
  },
  {
   "cell_type": "markdown",
   "id": "243dea5e-585b-49b8-b769-d13c6b48f7f6",
   "metadata": {},
   "source": [
    "La siguiente gráfica representa un ejemplo de un `espacio muestral`, el cual denotaremos como $\\mathcal{M}$. Cada objeto dentro de la bolsa es un elemento del espacio muestral. Esto significa que este espacio muestral tiene $N=20$ elementos. Se supone que cada individuo puede identificarse de manera única. En este ejemplo hemos usado  un identificador $1,2,\\ldots,20$, para cada uno de los elementos del espacio muestral. \n",
    "\n",
    "Adicionalmente,  cada individuo tiene un atributo de color. Hay tres colores diferentes: rojo, azul y gris."
   ]
  },
  {
   "cell_type": "markdown",
   "id": "b6b20ee1-4b40-49f2-8d2f-74080de3ea7b",
   "metadata": {},
   "source": [
    "```{admonition} Nota\n",
    "Se observa que el espacio muestral es un conjunto.\n",
    "```"
   ]
  },
  {
   "cell_type": "markdown",
   "id": "63fecae7-717b-4c59-b599-eb42d8e93133",
   "metadata": {},
   "source": [
    "```{figure} https://raw.githubusercontent.com/AprendizajeProfundo/Diplomado/master/Temas/Módulo%201-%20Matemáticas%20y%20Estad%C3%ADstica/2.%20Estad%C3%ADsica%2C%20Teor%C3%ADa%20de%20la%20Decisión%20y%20Teor%C3%ADa%20de%20la%20información/Imagenes/prob_bolsa_bolas.png\n",
    ":height: 250px\n",
    ":name: espacio-muestral\n",
    "\n",
    "Ejemplo de Espacio Muestral $\\mathcal{M}$\n",
    "```"
   ]
  },
  {
   "cell_type": "markdown",
   "id": "06f0ddc0-96a7-4018-b266-ea82d0cb7924",
   "metadata": {},
   "source": [
    "## <span style=\"color:#4361EE\">Evento</span>\n",
    "\n"
   ]
  },
  {
   "cell_type": "markdown",
   "id": "fe33523c-1808-4ef8-97fc-53438ae33f0a",
   "metadata": {},
   "source": [
    "Un evento es cualquier subconjunto del espacio muestral. El lector interesado puede verificar, si lo desea, que el espacio muestral $\\mathcal{M}$ tiene exactamente $2^{20}$ subconjuntos. \n",
    "\n",
    "Consideremos ahora seis eventos (subconjuntos) especiales de $\\mathcal{M}$: \n",
    "\n",
    "1. *azul*: el subconjunto de bolas azules;\n",
    "2. *rojo*: el subconjunto de bolas rojas;\n",
    "3. *gris*: el subconjunto de bolas grises.\n",
    "4. *pares*: el subconjunto de bolas pares.\n",
    "5. *impares*: el subconjunto de bolas impares.\n",
    "6. *pares azules*: el subconjunto de bolas pares azules.\n",
    "\n",
    "La gráfica muestra los 6 eventos (subconjuntos) del espacio muestral."
   ]
  },
  {
   "cell_type": "markdown",
   "id": "015a6b55-50ed-42d8-9b9f-7a7c48c31e93",
   "metadata": {},
   "source": [
    ":::{figure-md} markdown-fig\n",
    "<img src=\"https://raw.githubusercontent.com/AprendizajeProfundo/Diplomado/master/Temas/Módulo%201-%20Matemáticas%20y%20Estad%C3%ADstica/2.%20Estad%C3%ADsica%2C%20Teor%C3%ADa%20de%20la%20Decisión%20y%20Teor%C3%ADa%20de%20la%20información/Imagenes/prob_bolas_subconjuntos.png\" alt=\"evento\" class=\"bg-primary mb-1\" width=\"600px\">\n",
    "\n",
    "Ejemplos de **eventos** del Espacio Muestral\n",
    ":::"
   ]
  },
  {
   "cell_type": "markdown",
   "id": "912a0133-772f-4fa7-af20-a5d573e68ed9",
   "metadata": {},
   "source": [
    "## <span style=\"color:#4361EE\">Probabilidad</span>\n",
    "\n"
   ]
  },
  {
   "cell_type": "markdown",
   "id": "55ed1b3d-9087-4e5a-8fbc-5736d7969f62",
   "metadata": {},
   "source": [
    "## <span style=\"color:#4361EE\">Regla aditiva de la probabilidad</span>"
   ]
  },
  {
   "cell_type": "markdown",
   "id": "15a769e3-abb7-4316-98ba-efa70db31b5d",
   "metadata": {},
   "source": [
    "La probabilidad de la unión de dos eventos (subconjuntos) disyuntos (que no tiene intersección) es la suma de la probabilidad (medida) de cada uno de ellos. En símbolos, si $A$ y $B$ son eventos disyuntos de $\\mathcal{M}$, entonces\n",
    "\n",
    "$$\n",
    "\\text{Prob}[A\\cup B] = \\text{Prob}[A] + \\text{Prob}[B].\n",
    "$$ (mylabel)\n",
    "\n",
    "\n",
    "Por ejemplo, observe que $\\text{Prob}[\\text{azul}\\cup\\text{rojo}] = 5/20+7/20 = 12/20$. ¿Porque decimos que *azul* y  *rojo* son eventos disyuntos.\n",
    "\n",
    "\n",
    "Sin embargo \n",
    "\n",
    "$$\n",
    "\\text{Prob}[\\text{azul}\\cup\\text{pares}] \\ne 5/20 + 9/20.\n",
    "$$\n",
    "\n",
    "Esto se debe a que los eventos *azul* y *pares*, no son disyuntos. Como se muestra en la parte inferior derecha de la gráfica arriba, se tiene que $\\text{Prob}[\\text{azul}\\cap \\text{pares}] = 3/20$. ¿Cómo afecta esta situación el resultado el cálculo de la probabilidad de la unión de dos evento?\n",
    "\n",
    "Lo anterior conduce a la regla aditiva general la cual dice que\n",
    "\n"
   ]
  },
  {
   "cell_type": "markdown",
   "id": "8bf2913d-3611-40fd-ab67-a6058c266807",
   "metadata": {},
   "source": [
    "\n",
    "\n",
    "```{math}\n",
    ":label: eq-label\n",
    "\n",
    "\\text{Prob}[A\\cup B] = \\text{Prob}[A] + \\text{Prob}[B]-\\text{Prob}[A\\cap B] .\n",
    "```\n",
    "\n",
    "En el ejemplo se tiene entonces que\n",
    "\n",
    "$$\n",
    "\\text{Prob}[\\text{azul}\\cup\\text{pares}] = 5/20 + 10/20 - 3/20 = 12/20\n",
    "$$"
   ]
  },
  {
   "cell_type": "markdown",
   "id": "b0cbaad5-111b-4a37-8a51-842df00ad1f5",
   "metadata": {},
   "source": [
    "### <span style=\"color:#4CC9F0\">Ejercicio</span>"
   ]
  },
  {
   "cell_type": "markdown",
   "id": "b1d17d06-da65-4957-9d3b-f2691289333f",
   "metadata": {},
   "source": [
    "Que piensa de la siguiente afirmación. ¿Verdadero o falso? Justifique su respuesta.\n",
    "\n",
    "Si $A$ y $B$ son conjuntos disyuntos, entonces $\\text{Prob}[A\\cap B] = 0$."
   ]
  },
  {
   "cell_type": "markdown",
   "id": "86a5dde5-ffef-4f4f-b9ed-342d513416b4",
   "metadata": {},
   "source": [
    "_Por favor comente su respuesta._"
   ]
  },
  {
   "cell_type": "markdown",
   "id": "b3c4efa5-b6d5-4cc1-b1ee-606cc819d98b",
   "metadata": {},
   "source": [
    "### <span style=\"color:#4CC9F0\">Medida de todo el espacio muestral</span>"
   ]
  },
  {
   "cell_type": "markdown",
   "id": "615e2ee8-fc45-4d3a-b157-2413321c514d",
   "metadata": {},
   "source": [
    "Vamos a denotar por $\\emptyset$ al conjunto vacío, es decir un conjunto que no tiene elementos.\n",
    "\n",
    "En nuestro ejemplo tenemos que \n",
    "\n",
    "$$\\mathcal{M}= \\text{azul}\\cup \\text{rojo}\\cup \\text{gris}$$ "
   ]
  },
  {
   "cell_type": "markdown",
   "id": "ebede71c-73f7-4a2d-a594-84952e3b0503",
   "metadata": {},
   "source": [
    "\n",
    "\n",
    "Además se tiene que\n",
    "\n",
    "$$\n",
    "\\begin{align}\n",
    "\\text{azul}\\cap \\text{rojo} &= \\emptyset\\\\\n",
    "\\text{azul}\\cap \\text{gris} &= \\emptyset\\\\\n",
    "\\text{gris}\\cap \\text{rojo} &= \\emptyset\\\\\n",
    "\\end{align}\n",
    "$$\n",
    "\n",
    "Se dice en esta situación que los conjuntos son {ref}`prob:mutuamente_excluyentes`.  De acuerdo con la regla aditiva tenemos que\n",
    "\n",
    "$$\n",
    "\\text{Prob}[\\mathcal{M}] = \\text{Prob}[\\text{azul}] +  \\text{Prob}[\\text{rojo}]+  \\text{Prob}[\\text{gris}] = 5/20 + 7/20 + 8/20 = 1.\n",
    "$$\n",
    "\n",
    "Esta es una propiedad general de la probabilidad. El espacio muestral siempre tiene medida de probabilidad 1. \n",
    "\n",
    "Además observe que si se tienen eventos disyuntos entre sí (mutuamente excluyentes), cuya unión es el espacio muestral, entonces la probabilidad de la unión de todos esos eventos tiene probabilidad 1."
   ]
  },
  {
   "cell_type": "markdown",
   "id": "c7e92e0e-88e0-423f-b424-dc48cec8eb0b",
   "metadata": {},
   "source": [
    "### <span style=\"color:#4CC9F0\">Probabilidad del complemento de un evento </span>"
   ]
  },
  {
   "cell_type": "markdown",
   "id": "a94fe837-9f48-4989-9a8a-8dcf00607dcb",
   "metadata": {},
   "source": [
    "El complemento de un evento $A$ se denotará por $A^{c}$. Este simplemente el conjunto de elementos del espacio muestral que están por fuera de $A$. Entonces, es inmediato que $\\mathcal{M} = A\\cup A^c$. Por lo que \n",
    "\n",
    "$$\n",
    "Prob[A^c] = 1 - Prob[A].\n",
    "$$\n",
    "\n",
    "Una consecuencia inmediata de esta propiedad es que como $\\mathcal{M}^c= \\emptyset$, porque el espacio muestral contiene a todos los elementos, entonces $Prob[\\emptyset]=0$.\n",
    "\n",
    "\n",
    "En nuestro ejemplo $impares^c= pares$. Entonces $Prob[\\text{impares} ] = 1- 9/20 = 11/20$. Por favor verifica este resultado."
   ]
  },
  {
   "cell_type": "markdown",
   "id": "c0e4938c-e5a2-4639-af05-7e0c8287e1d8",
   "metadata": {},
   "source": [
    "## <span style=\"color:#4361EE\">Probabilidad condicional</span>"
   ]
  },
  {
   "cell_type": "markdown",
   "id": "dd695953-cc57-45d7-9c3d-e188f57925bc",
   "metadata": {},
   "source": [
    "El concepto de probabilidad condicional es de vital importancia en el estudio del aprendizaje profundo y la inteligencia artificial.\n",
    "\n",
    "Como el nombre parece indicar, es trata de calcular la probabilidad de un evento sujeto a una restricción. En realidad es así y la restricción normalmente está asociada con otro evento.\n",
    "\n",
    "Para ilustrar el asunto, supongamos que se pregunta por la probabilidad que una bola extraída sea par, dado que la bola es azul.\n",
    "\n",
    "Se observa entonces, que se da una información antes de calcular la probabilidad de ser par. Esta información corresponde al evento *azul*. Escribiremos\n",
    "\n",
    "$$\n",
    "\\text{Prob}(\\text{par}|\\text{azul})\n",
    "$$\n",
    "\n",
    "\n",
    "Para hacer el cálculo correcto, se procede de la siguiente manera: Primero se reduce el espacio muestra a *azul*. En el ejemplo se tiene que  \n",
    "\n",
    "$$\n",
    "\\text{azul} = \\{5,7,8,10,16 \\}.\n",
    "$$\n",
    "\n",
    "Ahora que se ha restringido el espacio muestral a *azul*, se calcula la probabilidad de interés. En este caso *par*. Observe entonces que \n",
    "\n",
    "$$\n",
    "\\text{Prob}(\\text{par}|\\text{azul}) = \\tfrac{3}{5},\n",
    "$$\n",
    "\n",
    "porque en el evento *azul* que tiene 5 elementos hay 3 *pares*.\n",
    "\n",
    "\n",
    "Puede verificarse que \n",
    "\n",
    "$$\n",
    "\\text{Prob}(\\text{par}|\\text{azul}) = \\frac{\\text{Prob}[\\text{par}\\cap \\text{azul}]}{\\text{Prob}[\\text{azul}]}\n",
    "$$"
   ]
  },
  {
   "cell_type": "markdown",
   "id": "bcd3a7bb-e150-4a2a-8cc0-ef9519b25720",
   "metadata": {},
   "source": [
    "### <span style=\"color:#4CC9F0\">Ejercicio</span>"
   ]
  },
  {
   "cell_type": "markdown",
   "id": "c22ffacf-4b51-4df4-b0a0-fe7534346ea8",
   "metadata": {},
   "source": [
    "Imagínese como se podría verificar esta última ecuación.  Calcule $\\text{Prob}(\\text{par}|\\text{azul})$ usando la dicha ecuación."
   ]
  },
  {
   "cell_type": "markdown",
   "id": "5c55658e-f0ba-4213-9ffb-af79e77ad4ce",
   "metadata": {},
   "source": [
    "_Por favor comente su respuesta._"
   ]
  },
  {
   "cell_type": "markdown",
   "id": "05a6bea6-d13c-439e-a09a-0fcbc54c70f1",
   "metadata": {},
   "source": [
    ":::{admonition} Importante\n",
    ":class: tip\n",
    "Esta es una regla general, que se enuncia así: \n",
    "Si $A$ y $B$ son eventos del espacio muestral $\\mathcal{M}$, entonces se define $\\text{Prob}[A|B]$ como\n",
    "\n",
    "$$\n",
    "\\text{Prob}[A|B] = \\frac{\\text{Prob}[A\\cap B]}{\\text{Prob}[B]}\n",
    "$$\n",
    ":::"
   ]
  },
  {
   "cell_type": "markdown",
   "id": "e1f05fef-0ace-4366-8865-3009b5344072",
   "metadata": {},
   "source": [
    "## <span style=\"color:#4361EE\">Regla multiplicativa de la probabilidad</span>"
   ]
  },
  {
   "cell_type": "markdown",
   "id": "92d6d62d-1439-42a1-8259-9906b868ba3e",
   "metadata": {},
   "source": [
    "De la definición de la probabilidad condicional $\\text{Prob}[A|B]$ se desprende que \n",
    "\n",
    "$$\n",
    "\\text{Prob}[A\\cap B] = \\text{Prob}[B]\\times \\text{Prob}[A|B]\n",
    "$$"
   ]
  },
  {
   "cell_type": "markdown",
   "id": "4c6a73cb-e49d-4fc1-95fc-9f33b56a756d",
   "metadata": {},
   "source": [
    "### <span style=\"color:#4CC9F0\">Ejemplo</span>"
   ]
  },
  {
   "cell_type": "markdown",
   "id": "b5e50038-74ab-4368-8f57-4329c019e703",
   "metadata": {},
   "source": [
    "Con nuestro ejemplo supongamos que se pregunta por la probabilidad de obtener una bola par azul en un experimento.\n",
    "\n",
    "La solución es sencilla, por que ya hemos obtenido que $\\text{Prob}(\\text{par}|\\text{azul}) = \\tfrac{3}{5}$,\n",
    "y $\\text{Prob}[\\text{azul}] = 5/20$. por lo tanto\n",
    "\n",
    "$$\n",
    "\\text{Prob}[\\text{par}\\cap\\text{azul}] = \\text{Prob}[\\text{azul}]\\times\\text{Prob}[\\text{par}|\\text{azul}] = \\tfrac{5}{20}\\times \\tfrac{3}{5} =  \\tfrac{3}{20}\n",
    "$$\n",
    "\n",
    "Esto está de acuerdo con la ilustración de los evento del espacio muestral exhibidos arriba."
   ]
  },
  {
   "cell_type": "markdown",
   "id": "9bc611c7-03ca-4851-81d6-d46b27a2a96d",
   "metadata": {},
   "source": [
    "## <span style=\"color:#4361EE\">Independencia</span>"
   ]
  },
  {
   "cell_type": "markdown",
   "id": "45520855-f02c-40da-92af-9941657e387f",
   "metadata": {},
   "source": [
    "Dos eventos $A$ y $B$ del espacio muestral $\\mathcal{M}$ se dicen independientes si\n",
    "\n",
    "\n",
    "$$\n",
    "\\text{Prob}[A\\cap B] = \\text{Prob}[A] \\times\\text{Prob}[B].\n",
    "$$\n",
    "\n",
    "\n",
    "Esta definición es bastante técnica, pero intuitivamente puede entenderse como que la ocurrencia de un evento no afecta la ocurrencia del otro. Observe que en este caso se tiene que\n",
    "\n",
    "$$\n",
    "\\text{Prob}[A| B] = \\text{Prob}[A].\n",
    "$$"
   ]
  },
  {
   "cell_type": "markdown",
   "id": "6454096d-7899-4442-914b-51cdc6f2cfe7",
   "metadata": {},
   "source": [
    "### <span style=\"color:#4CC9F0\">Ejercicio</span>"
   ]
  },
  {
   "cell_type": "markdown",
   "id": "4ada926e-2531-41f9-a5b3-9b3d9892d69f",
   "metadata": {},
   "source": [
    "Por favor verifique esta última afirmación."
   ]
  },
  {
   "cell_type": "markdown",
   "id": "0386bf28-0a2a-44c1-9fc4-d4a2eb7f8c0e",
   "metadata": {},
   "source": [
    "_Por favor comente su respuesta._"
   ]
  },
  {
   "cell_type": "markdown",
   "id": "592de827-e52c-47d7-b254-98ccb3f85197",
   "metadata": {},
   "source": [
    "## <span style=\"color:#4361EE\">Ejercicios</span>"
   ]
  },
  {
   "cell_type": "markdown",
   "id": "acad4133-7b5a-4456-89b2-2662d8aade39",
   "metadata": {},
   "source": [
    "Considere el siguiente experimento. Se lanzan dos dados no cargados de seis caras cada uno. El resultado del experimento es una pareja de números. Por ejemplo $(5,6)$."
   ]
  },
  {
   "cell_type": "markdown",
   "id": "0d015147-fdf9-422e-999d-e6a9303726dd",
   "metadata": {},
   "source": [
    "```{figure} https://raw.githubusercontent.com/Yesenia-AriasC/PRT/master/dos_dados.png\n",
    ":height: 150px\n",
    ":name: dos-dados\n",
    "\n",
    "Fuente ...\n",
    "```"
   ]
  },
  {
   "cell_type": "markdown",
   "id": "f183c0bc-2e84-44c3-9e21-8f617087235b",
   "metadata": {},
   "source": [
    "1. Haga una tabla, usando Markdown con todo el espacio muestral $\\mathcal{M}$. Ayuda: son 36 elementos.\n",
    "2. ¿Cuántos eventos son posibles? Use Python para hacer el cálculo 2^36\n",
    "2. Calcule la probabilidad de obtener 2,3,... 12.\n",
    "3. Calcule la probabilidad de obtener un número par.\n",
    "4. Compruebe que la probabilidad de obtener 5 en el dado azul es 1/5 y que este evento es independiente del valor obtenido en el dado rojo.\n",
    "4. Escriba un programa Python que construya un tensor de dimensión 2 y que contenga los 36 posibles resultados. Consulte  sobre como se hace un ciclo for en Python."
   ]
  },
  {
   "cell_type": "markdown",
   "id": "67c8e351-1a3c-4d0d-a29c-51fef660da2b",
   "metadata": {},
   "source": [
    "## <span style=\"color:#4361EE\">Comentarios</span>\n",
    "```{raw} html\n",
    "<script src=\"https://utteranc.es/client.js\"\n",
    "        repo=\"Yesenia-AriasC / book_pruebas\"\n",
    "        issue-term=\"nombre de ruta\"\n",
    "        label=\"proba_basic\"\n",
    "        theme=\"boxy-light\"\n",
    "        crossorigin=\"anónimo\"\n",
    "        asíncrono>\n",
    "</script>\n",
    "```\n",
    "\n"
   ]
  }
 ],
 "metadata": {
  "kernelspec": {
   "display_name": "Python 3 (ipykernel)",
   "language": "python",
   "name": "python3"
  },
  "language_info": {
   "codemirror_mode": {
    "name": "ipython",
    "version": 3
   },
   "file_extension": ".py",
   "mimetype": "text/x-python",
   "name": "python",
   "nbconvert_exporter": "python",
   "pygments_lexer": "ipython3",
   "version": "3.8.8"
  }
 },
 "nbformat": 4,
 "nbformat_minor": 5
}
