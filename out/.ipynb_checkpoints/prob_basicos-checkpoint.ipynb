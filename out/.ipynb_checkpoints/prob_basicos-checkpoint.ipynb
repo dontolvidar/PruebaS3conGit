{
 "cells": [
  {
   "cell_type": "markdown",
   "id": "1c36c872-fb98-4163-9a46-aa9aa6921fd8",
   "metadata": {},
   "source": [
    "# <span style=\"color:#F72585\">Definiciones</span>"
   ]
  },
  {
   "cell_type": "markdown",
   "id": "f14006af-e006-40c7-bda4-a84fe0c8e95c",
   "metadata": {},
   "source": [
    "Aquí se ofrece una mejor explicación sobre algunos conceptos no profundizados en el texto."
   ]
  },
  {
   "cell_type": "markdown",
   "id": "91018f91-5702-4a8b-87d2-a207c90affd4",
   "metadata": {},
   "source": [
    "(prob:mutuamente_excluyentes)=\n",
    "## <span style=\"color:#4361EE\">Mutuamente excluyentes</span>\n",
    "\n",
    "\n"
   ]
  },
  {
   "cell_type": "markdown",
   "id": "02d26469-5f9b-4d9f-a772-8d4e826b2d3b",
   "metadata": {},
   "source": [
    "Dos conjuntos son mutuamente excuyentes si..."
   ]
  },
  {
   "cell_type": "markdown",
   "id": "e64ce840-dbbd-4996-bb33-96d407a5a432",
   "metadata": {},
   "source": [
    "Ejemplo."
   ]
  },
  {
   "cell_type": "code",
   "execution_count": null,
   "id": "c7e0c4d8-2465-4dcd-bd7d-31adc81b00d3",
   "metadata": {},
   "outputs": [],
   "source": []
  }
 ],
 "metadata": {
  "kernelspec": {
   "display_name": "Python 3 (ipykernel)",
   "language": "python",
   "name": "python3"
  },
  "language_info": {
   "codemirror_mode": {
    "name": "ipython",
    "version": 3
   },
   "file_extension": ".py",
   "mimetype": "text/x-python",
   "name": "python",
   "nbconvert_exporter": "python",
   "pygments_lexer": "ipython3",
   "version": "3.8.8"
  }
 },
 "nbformat": 4,
 "nbformat_minor": 5
}
